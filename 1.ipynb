{
 "cells": [
  {
   "cell_type": "code",
   "execution_count": 1,
   "id": "0e7a9e67-c0b9-48b0-a03e-22109b9f3af6",
   "metadata": {},
   "outputs": [],
   "source": [
    "import pandas as pd\n",
    "import matplotlib.pyplot as plt\n",
    "import seaborn as sns\n",
    "\n",
    "# Optional: cleaner visuals\n",
    "sns.set(style=\"whitegrid\")"
   ]
  },
  {
   "cell_type": "code",
   "execution_count": 2,
   "id": "75e1bc01-85eb-4866-8b2f-445753a771fb",
   "metadata": {},
   "outputs": [
    {
     "data": {
      "text/html": [
       "<div>\n",
       "<style scoped>\n",
       "    .dataframe tbody tr th:only-of-type {\n",
       "        vertical-align: middle;\n",
       "    }\n",
       "\n",
       "    .dataframe tbody tr th {\n",
       "        vertical-align: top;\n",
       "    }\n",
       "\n",
       "    .dataframe thead th {\n",
       "        text-align: right;\n",
       "    }\n",
       "</style>\n",
       "<table border=\"1\" class=\"dataframe\">\n",
       "  <thead>\n",
       "    <tr style=\"text-align: right;\">\n",
       "      <th></th>\n",
       "      <th>business_name</th>\n",
       "      <th>author_name</th>\n",
       "      <th>text</th>\n",
       "      <th>photo</th>\n",
       "      <th>rating</th>\n",
       "      <th>rating_category</th>\n",
       "    </tr>\n",
       "  </thead>\n",
       "  <tbody>\n",
       "    <tr>\n",
       "      <th>0</th>\n",
       "      <td>Haci'nin Yeri - Yigit Lokantasi</td>\n",
       "      <td>Gulsum Akar</td>\n",
       "      <td>We went to Marmaris with my wife for a holiday...</td>\n",
       "      <td>dataset/taste/hacinin_yeri_gulsum_akar.png</td>\n",
       "      <td>5</td>\n",
       "      <td>taste</td>\n",
       "    </tr>\n",
       "    <tr>\n",
       "      <th>1</th>\n",
       "      <td>Haci'nin Yeri - Yigit Lokantasi</td>\n",
       "      <td>Oguzhan Cetin</td>\n",
       "      <td>During my holiday in Marmaris we ate here to f...</td>\n",
       "      <td>dataset/menu/hacinin_yeri_oguzhan_cetin.png</td>\n",
       "      <td>4</td>\n",
       "      <td>menu</td>\n",
       "    </tr>\n",
       "    <tr>\n",
       "      <th>2</th>\n",
       "      <td>Haci'nin Yeri - Yigit Lokantasi</td>\n",
       "      <td>Yasin Kuyu</td>\n",
       "      <td>Prices are very affordable. The menu in the ph...</td>\n",
       "      <td>dataset/outdoor_atmosphere/hacinin_yeri_yasin_...</td>\n",
       "      <td>3</td>\n",
       "      <td>outdoor_atmosphere</td>\n",
       "    </tr>\n",
       "    <tr>\n",
       "      <th>3</th>\n",
       "      <td>Haci'nin Yeri - Yigit Lokantasi</td>\n",
       "      <td>Orhan Kapu</td>\n",
       "      <td>Turkey's cheapest artisan restaurant and its f...</td>\n",
       "      <td>dataset/indoor_atmosphere/hacinin_yeri_orhan_k...</td>\n",
       "      <td>5</td>\n",
       "      <td>indoor_atmosphere</td>\n",
       "    </tr>\n",
       "    <tr>\n",
       "      <th>4</th>\n",
       "      <td>Haci'nin Yeri - Yigit Lokantasi</td>\n",
       "      <td>Ozgur Sati</td>\n",
       "      <td>I don't know what you will look for in terms o...</td>\n",
       "      <td>dataset/menu/hacinin_yeri_ozgur_sati.png</td>\n",
       "      <td>3</td>\n",
       "      <td>menu</td>\n",
       "    </tr>\n",
       "  </tbody>\n",
       "</table>\n",
       "</div>"
      ],
      "text/plain": [
       "                     business_name    author_name  \\\n",
       "0  Haci'nin Yeri - Yigit Lokantasi    Gulsum Akar   \n",
       "1  Haci'nin Yeri - Yigit Lokantasi  Oguzhan Cetin   \n",
       "2  Haci'nin Yeri - Yigit Lokantasi     Yasin Kuyu   \n",
       "3  Haci'nin Yeri - Yigit Lokantasi     Orhan Kapu   \n",
       "4  Haci'nin Yeri - Yigit Lokantasi     Ozgur Sati   \n",
       "\n",
       "                                                text  \\\n",
       "0  We went to Marmaris with my wife for a holiday...   \n",
       "1  During my holiday in Marmaris we ate here to f...   \n",
       "2  Prices are very affordable. The menu in the ph...   \n",
       "3  Turkey's cheapest artisan restaurant and its f...   \n",
       "4  I don't know what you will look for in terms o...   \n",
       "\n",
       "                                               photo  rating  \\\n",
       "0         dataset/taste/hacinin_yeri_gulsum_akar.png       5   \n",
       "1        dataset/menu/hacinin_yeri_oguzhan_cetin.png       4   \n",
       "2  dataset/outdoor_atmosphere/hacinin_yeri_yasin_...       3   \n",
       "3  dataset/indoor_atmosphere/hacinin_yeri_orhan_k...       5   \n",
       "4           dataset/menu/hacinin_yeri_ozgur_sati.png       3   \n",
       "\n",
       "      rating_category  \n",
       "0               taste  \n",
       "1                menu  \n",
       "2  outdoor_atmosphere  \n",
       "3   indoor_atmosphere  \n",
       "4                menu  "
      ]
     },
     "execution_count": 2,
     "metadata": {},
     "output_type": "execute_result"
    }
   ],
   "source": [
    "# Load the dataset\n",
    "df = pd.read_csv(\"reviews.csv\")\n",
    "\n",
    "# Preview the first 5 rows\n",
    "df.head()\n",
    "\n"
   ]
  },
  {
   "cell_type": "code",
   "execution_count": 3,
   "id": "ee7ed0ac-75fa-4751-950f-a5a3a5b205c1",
   "metadata": {},
   "outputs": [
    {
     "name": "stdout",
     "output_type": "stream",
     "text": [
      "Index(['business_name', 'author_name', 'text', 'photo', 'rating',\n",
      "       'rating_category'],\n",
      "      dtype='object')\n",
      "Shape: (1100, 6)\n",
      "Missing values:\n",
      " business_name      0\n",
      "author_name        0\n",
      "text               0\n",
      "photo              0\n",
      "rating             0\n",
      "rating_category    0\n",
      "dtype: int64\n"
     ]
    }
   ],
   "source": [
    "# Show all column names\n",
    "print(df.columns)\n",
    "\n",
    "# Shape of dataset (rows, columns)\n",
    "print(\"Shape:\", df.shape)\n",
    "\n",
    "# Missing values per column\n",
    "print(\"Missing values:\\n\", df.isnull().sum())\n"
   ]
  },
  {
   "cell_type": "code",
   "execution_count": 4,
   "id": "850302f8-014a-488a-9670-3ef7ea9df267",
   "metadata": {},
   "outputs": [],
   "source": [
    "# Flag reviews that are blank or just whitespace\n",
    "df['flag_blank'] = df['text'].str.strip() == ''"
   ]
  },
  {
   "cell_type": "code",
   "execution_count": 5,
   "id": "0bc0de05-ea14-48ac-9dce-f9efc37254d0",
   "metadata": {},
   "outputs": [],
   "source": [
    "# Flag reviews with fewer than 10 characters\n",
    "df['flag_too_short'] = df['text'].str.len() < 10"
   ]
  },
  {
   "cell_type": "code",
   "execution_count": 6,
   "id": "b0645f87-3d79-4800-bdd1-ac09aa9849d6",
   "metadata": {},
   "outputs": [],
   "source": [
    "# Flag duplicate reviews (case sensitive)\n",
    "df['flag_duplicate'] = df.duplicated(subset=['text'], keep=False)\n"
   ]
  },
  {
   "cell_type": "code",
   "execution_count": 7,
   "id": "2ebf6537-cceb-4a34-b5b9-4d33d86b6467",
   "metadata": {},
   "outputs": [
    {
     "data": {
      "text/plain": [
       "flag_blank         0\n",
       "flag_too_short    13\n",
       "flag_duplicate    19\n",
       "dtype: int64"
      ]
     },
     "execution_count": 7,
     "metadata": {},
     "output_type": "execute_result"
    }
   ],
   "source": [
    "df[['flag_blank', 'flag_too_short', 'flag_duplicate']].sum()\n"
   ]
  },
  {
   "cell_type": "code",
   "execution_count": 8,
   "id": "6d7f6e90-4cc9-45ab-99a6-05bc289f825b",
   "metadata": {},
   "outputs": [],
   "source": [
    "df['flag_any_issue'] = df[['flag_blank', 'flag_too_short', 'flag_duplicate']].any(axis=1)\n"
   ]
  },
  {
   "cell_type": "code",
   "execution_count": 9,
   "id": "855ebf42-3b6e-42fa-a106-c0a6628ee73c",
   "metadata": {},
   "outputs": [
    {
     "data": {
      "text/plain": [
       "np.int64(24)"
      ]
     },
     "execution_count": 9,
     "metadata": {},
     "output_type": "execute_result"
    }
   ],
   "source": [
    "df['flag_any_issue'].sum()\n"
   ]
  },
  {
   "cell_type": "code",
   "execution_count": 10,
   "id": "d12836bc-9195-49f3-a5f8-8e40edc7b12c",
   "metadata": {},
   "outputs": [
    {
     "data": {
      "text/plain": [
       "business_name\n",
       "Nazar Cafe                 2\n",
       "Tatbak                     2\n",
       "Bilice                     1\n",
       "Bogazkoy Restaurant        1\n",
       "Anzelha                    1\n",
       "Askin Tostevi              1\n",
       "Duveroglu                  1\n",
       "Cici Tantuni               1\n",
       "Fikret Balik Restaurant    1\n",
       "Gold Semaver               1\n",
       "dtype: int64"
      ]
     },
     "execution_count": 10,
     "metadata": {},
     "output_type": "execute_result"
    }
   ],
   "source": [
    "# Group by business and count flagged reviews\n",
    "flagged_by_business = df[df['flag_any_issue']].groupby('business_name').size().sort_values(ascending=False)\n",
    "\n",
    "# Show top 10\n",
    "flagged_by_business.head(10)\n"
   ]
  },
  {
   "cell_type": "code",
   "execution_count": 11,
   "id": "52d5d33f-bd31-42b7-b1db-4f835d2664e2",
   "metadata": {},
   "outputs": [
    {
     "data": {
      "image/png": "[encoded data removed]",
      "text/plain": [
       "<Figure size 600x400 with 1 Axes>"
      ]
     },
     "metadata": {},
     "output_type": "display_data"
    }
   ],
   "source": [
    "import matplotlib.pyplot as plt\n",
    "\n",
    "# Count reviews with and without issues\n",
    "quality_counts = df['flag_any_issue'].value_counts()\n",
    "\n",
    "# Plot\n",
    "plt.figure(figsize=(6, 4))\n",
    "quality_counts.plot(kind='bar', color=['green', 'red'])\n",
    "plt.xticks(ticks=[0,1], labels=['Clean', 'Flagged'], rotation=0)\n",
    "plt.title('Review Quality Breakdown')\n",
    "plt.ylabel('Number of Reviews')\n",
    "plt.xlabel('Review Status')\n",
    "plt.tight_layout()\n",
    "plt.show()\n"
   ]
  },
  {
   "cell_type": "code",
   "execution_count": 12,
   "id": "e33ff4da-5080-463b-bba0-6d1236d5ddff",
   "metadata": {},
   "outputs": [],
   "source": [
    "df.to_csv(\"cleaned_reviews_with_flags.csv\", index=False)\n"
   ]
  },
  {
   "cell_type": "code",
   "execution_count": null,
   "id": "92770ff8-48db-4ea7-b44c-026174a8b027",
   "metadata": {},
   "outputs": [],
   "source": []
  }
 ],
 "metadata": {
  "kernelspec": {
   "display_name": "Python 3 (ipykernel)",
   "language": "python",
   "name": "python3"
  },
  "language_info": {
   "codemirror_mode": {
    "name": "ipython",
    "version": 3
   },
   "file_extension": ".py",
   "mimetype": "text/x-python",
   "name": "python",
   "nbconvert_exporter": "python",
   "pygments_lexer": "ipython3",
   "version": "3.9.6"
  }
 },
 "nbformat": 4,
 "nbformat_minor": 5
}
